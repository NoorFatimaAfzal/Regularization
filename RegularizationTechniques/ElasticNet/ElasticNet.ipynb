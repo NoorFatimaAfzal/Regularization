{
  "nbformat": 4,
  "nbformat_minor": 0,
  "metadata": {
    "colab": {
      "provenance": []
    },
    "kernelspec": {
      "name": "python3",
      "display_name": "Python 3"
    },
    "language_info": {
      "name": "python"
    }
  },
  "cells": [
    {
      "cell_type": "markdown",
      "source": [
        "# Elastic Net Regression\n",
        "\n",
        "## Overview\n",
        "Elastic Net is a regularization technique that combines the penalties of Lasso (L1) and Ridge (L2) regression. It is particularly useful when dealing with datasets with multicollinearity (highly correlated predictors) or when the number of predictors exceeds the number of observations.\n",
        "\n",
        "## Formula\n",
        "The Elastic Net regression model can be expressed as follows:\n",
        "\n",
        "$$\n",
        "\\text{Minimize } ||y - X\\beta||^2_2 + \\lambda_1 ||\\beta||_1 + \\lambda_2 ||\\beta||^2_2\n",
        "$$\n",
        "\n",
        "Where:\n",
        "- \\( y \\) is the response vector.\n",
        "- \\( X \\) is the matrix of predictors.\n",
        "- $$ \\beta $$ is the vector of coefficients.\n",
        "- $$||y - X\\beta||^2_2 $$ is the residual sum of squares (RSS).\n",
        "- $$ ||\\beta||_1 $$ is the L1 norm (Lasso penalty).\n",
        "- $$ ||\\beta||^2_2 $$ is the L2 norm (Ridge penalty).\n",
        "- $$ \\lambda_1 $$ controls the strength of the L1 penalty.\n",
        "- $$ \\lambda_2 $$ controls the strength of the L2 penalty.\n",
        "\n",
        "## Explanation of Parameters\n",
        "- **Lambda (\\(\\lambda\\))**: The regularization parameter that determines the amount of shrinkage applied to the coefficients. Larger values of \\(\\lambda\\) lead to more regularization, potentially improving the model's generalization ability but at the cost of model complexity.\n",
        "- **L1 Ratio**: This parameter controls the mix between Lasso and Ridge penalties. It is defined as:\n",
        "\n",
        "$$\n",
        "\\text{L1 Ratio} = \\frac{\\lambda_1}{\\lambda_1 + \\lambda_2}\n",
        "$$\n",
        "\n",
        "- When the L1 ratio is set to 1, Elastic Net behaves like Lasso regression.\n",
        "- When the L1 ratio is set to 0, it behaves like Ridge regression.\n",
        "- Values between 0 and 1 give a blend of both penalties.\n",
        "\n",
        "## When to Use Elastic Net\n",
        "- **High Dimensional Data**: When the number of predictors is large relative to the number of observations.\n",
        "- **Multicollinearity**: When predictors are highly correlated, leading to instability in coefficient estimates with standard linear regression.\n",
        "- **Model Selection**: When you want to select a subset of predictors, as Lasso does, while still benefiting from the properties of Ridge regression.\n",
        "- **Overfitting**: When you want to prevent overfitting by incorporating regularization in the regression model.\n",
        "\n",
        "## Conclusion\n",
        "Elastic Net is a powerful regression technique that combines the strengths of Lasso and Ridge regression. By tuning the parameters \\(\\lambda_1\\), \\(\\lambda_2\\), and the L1 ratio, you can achieve a balance between bias and variance, leading to improved model performance.\n"
      ],
      "metadata": {
        "id": "T5umzggoHQtA"
      }
    },
    {
      "cell_type": "code",
      "execution_count": 1,
      "metadata": {
        "id": "D9GSOFAUHNSg"
      },
      "outputs": [],
      "source": [
        "\n",
        "from sklearn.datasets import load_diabetes\n",
        "from sklearn.linear_model import LinearRegression,Ridge,Lasso,ElasticNet\n",
        "from sklearn.model_selection import train_test_split\n",
        "from sklearn.metrics import r2_score"
      ]
    },
    {
      "cell_type": "code",
      "source": [
        "X,y = load_diabetes(return_X_y=True)"
      ],
      "metadata": {
        "id": "193dOLblIC0s"
      },
      "execution_count": 2,
      "outputs": []
    },
    {
      "cell_type": "code",
      "source": [
        "\n",
        "X_train,X_test,y_train,y_test = train_test_split(X,y,test_size=0.2,random_state=2)"
      ],
      "metadata": {
        "id": "WW4rvZSoIGCF"
      },
      "execution_count": 3,
      "outputs": []
    },
    {
      "cell_type": "code",
      "source": [
        "# Linear Regression\n",
        "reg = LinearRegression()\n",
        "reg.fit(X_train,y_train)\n",
        "y_pred = reg.predict(X_test)\n",
        "r2_score(y_test,y_pred)"
      ],
      "metadata": {
        "colab": {
          "base_uri": "https://localhost:8080/"
        },
        "id": "Wj3GUotDIIT2",
        "outputId": "319e7a25-95b1-4914-8466-b3b8d8a587a5"
      },
      "execution_count": 4,
      "outputs": [
        {
          "output_type": "execute_result",
          "data": {
            "text/plain": [
              "0.4399338661568968"
            ]
          },
          "metadata": {},
          "execution_count": 4
        }
      ]
    },
    {
      "cell_type": "code",
      "source": [
        "\n",
        "# Ridge\n",
        "reg = Ridge(alpha=0.1)\n",
        "reg.fit(X_train,y_train)\n",
        "y_pred = reg.predict(X_test)\n",
        "r2_score(y_test,y_pred)"
      ],
      "metadata": {
        "colab": {
          "base_uri": "https://localhost:8080/"
        },
        "id": "LkiL6T_7IK1F",
        "outputId": "e9ba9645-94f9-40e2-d8af-174bab595af9"
      },
      "execution_count": 5,
      "outputs": [
        {
          "output_type": "execute_result",
          "data": {
            "text/plain": [
              "0.45199494197195456"
            ]
          },
          "metadata": {},
          "execution_count": 5
        }
      ]
    },
    {
      "cell_type": "code",
      "source": [
        "# Lasso\n",
        "reg = Lasso(alpha=0.01)\n",
        "reg.fit(X_train,y_train)\n",
        "y_pred = reg.predict(X_test)\n",
        "r2_score(y_test,y_pred)"
      ],
      "metadata": {
        "colab": {
          "base_uri": "https://localhost:8080/"
        },
        "id": "8dJapvm9INp6",
        "outputId": "9b402196-bcb2-4672-d76e-d360a4d9cb46"
      },
      "execution_count": 6,
      "outputs": [
        {
          "output_type": "execute_result",
          "data": {
            "text/plain": [
              "0.44111855963110613"
            ]
          },
          "metadata": {},
          "execution_count": 6
        }
      ]
    },
    {
      "cell_type": "code",
      "source": [
        "# ElasticNet\n",
        "reg = ElasticNet(alpha=0.005,l1_ratio=0.9)\n",
        "reg.fit(X_train,y_train)\n",
        "y_pred = reg.predict(X_test)\n",
        "r2_score(y_test,y_pred)"
      ],
      "metadata": {
        "colab": {
          "base_uri": "https://localhost:8080/"
        },
        "id": "vEHx-3D-ISxA",
        "outputId": "9969dc6c-0c17-4fb0-f5d4-72759b929edb"
      },
      "execution_count": 7,
      "outputs": [
        {
          "output_type": "execute_result",
          "data": {
            "text/plain": [
              "0.4531474541554823"
            ]
          },
          "metadata": {},
          "execution_count": 7
        }
      ]
    },
    {
      "cell_type": "code",
      "source": [],
      "metadata": {
        "id": "O55wiMQfIVp_"
      },
      "execution_count": null,
      "outputs": []
    }
  ]
}